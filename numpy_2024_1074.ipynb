{
  "nbformat": 4,
  "nbformat_minor": 0,
  "metadata": {
    "colab": {
      "provenance": [],
      "authorship_tag": "ABX9TyPyWTooWdLzjq3sCbpukc6H",
      "include_colab_link": true
    },
    "kernelspec": {
      "name": "python3",
      "display_name": "Python 3"
    },
    "language_info": {
      "name": "python"
    }
  },
  "cells": [
    {
      "cell_type": "markdown",
      "metadata": {
        "id": "view-in-github",
        "colab_type": "text"
      },
      "source": [
        "<a href=\"https://colab.research.google.com/github/yunusbaskan213/yapayzeka/blob/main/numpy_2024_1074.ipynb\" target=\"_parent\"><img src=\"https://colab.research.google.com/assets/colab-badge.svg\" alt=\"Open In Colab\"/></a>"
      ]
    },
    {
      "cell_type": "code",
      "execution_count": 1,
      "metadata": {
        "id": "GoLUw1QQF5-S"
      },
      "outputs": [],
      "source": [
        "import numpy as np"
      ]
    },
    {
      "cell_type": "markdown",
      "source": [
        "# 1) (10.,15,30,45,60) değerlerine sahip numpy dizisi oluştur\n"
      ],
      "metadata": {
        "id": "85a4RTz3GwKD"
      }
    },
    {
      "cell_type": "code",
      "source": [
        "result=np.array([10,15,30,45,60])\n",
        "result"
      ],
      "metadata": {
        "colab": {
          "base_uri": "https://localhost:8080/"
        },
        "id": "BDonpcWUHPMs",
        "outputId": "da3b03a5-7452-429b-c20d-ba81e94a18b8"
      },
      "execution_count": 2,
      "outputs": [
        {
          "output_type": "execute_result",
          "data": {
            "text/plain": [
              "array([10, 15, 30, 45, 60])"
            ]
          },
          "metadata": {},
          "execution_count": 2
        }
      ]
    },
    {
      "cell_type": "markdown",
      "source": [
        "# 2 (5-15 arasındaki sayılarla bir dizi oluştur"
      ],
      "metadata": {
        "id": "O2T9c83pH0T8"
      }
    },
    {
      "cell_type": "code",
      "source": [
        "result = np.arange(5,15)\n",
        "result"
      ],
      "metadata": {
        "colab": {
          "base_uri": "https://localhost:8080/"
        },
        "id": "R1Rcjce5IKR0",
        "outputId": "24893495-95f5-4dce-edcc-4161c221f411"
      },
      "execution_count": 3,
      "outputs": [
        {
          "output_type": "execute_result",
          "data": {
            "text/plain": [
              "array([ 5,  6,  7,  8,  9, 10, 11, 12, 13, 14])"
            ]
          },
          "metadata": {},
          "execution_count": 3
        }
      ]
    },
    {
      "cell_type": "markdown",
      "source": [
        "# 3) 50-100 arasında 5 er 5er artan bir dizi oluştur"
      ],
      "metadata": {
        "id": "ZkDbbi3ZIkuc"
      }
    },
    {
      "cell_type": "code",
      "source": [
        "result=np.arange(50,100,5)\n",
        "result"
      ],
      "metadata": {
        "colab": {
          "base_uri": "https://localhost:8080/"
        },
        "id": "3EtVGB8yItG0",
        "outputId": "f3af5ba6-4d21-42fa-dc41-7e86bfd851a2"
      },
      "execution_count": 5,
      "outputs": [
        {
          "output_type": "execute_result",
          "data": {
            "text/plain": [
              "array([50, 55, 60, 65, 70, 75, 80, 85, 90, 95])"
            ]
          },
          "metadata": {},
          "execution_count": 5
        }
      ]
    },
    {
      "cell_type": "markdown",
      "source": [
        "# 4) 10 elemanlı sıfırlardan oluşan bir dizi oluşturunuz"
      ],
      "metadata": {
        "id": "P_xBtkZUJoWL"
      }
    },
    {
      "cell_type": "code",
      "source": [
        "result = np.zeros(10)\n",
        "result"
      ],
      "metadata": {
        "colab": {
          "base_uri": "https://localhost:8080/"
        },
        "id": "ecgH9xR6JzZC",
        "outputId": "8eab5249-e0a8-4833-c36c-cd1b21901965"
      },
      "execution_count": 10,
      "outputs": [
        {
          "output_type": "execute_result",
          "data": {
            "text/plain": [
              "array([0., 0., 0., 0., 0., 0., 0., 0., 0., 0.])"
            ]
          },
          "metadata": {},
          "execution_count": 10
        }
      ]
    },
    {
      "cell_type": "markdown",
      "source": [
        "# 5) 10 elemanlı birilerden oluşan bir dizi oluşturunuz"
      ],
      "metadata": {
        "id": "bkzLwlpUKPgq"
      }
    },
    {
      "cell_type": "code",
      "source": [
        "result = np.ones(10)\n",
        "result"
      ],
      "metadata": {
        "colab": {
          "base_uri": "https://localhost:8080/"
        },
        "id": "DjLygVLBKbT7",
        "outputId": "23f734e9-5461-4054-8715-cbcdba39f08d"
      },
      "execution_count": 11,
      "outputs": [
        {
          "output_type": "execute_result",
          "data": {
            "text/plain": [
              "array([1., 1., 1., 1., 1., 1., 1., 1., 1., 1.])"
            ]
          },
          "metadata": {},
          "execution_count": 11
        }
      ]
    },
    {
      "cell_type": "markdown",
      "source": [
        "# 6) (0-100) arasında eşit aralıklı 5 sayı üretin"
      ],
      "metadata": {
        "id": "BgH9aSfHKpwM"
      }
    },
    {
      "cell_type": "code",
      "source": [
        "result = np.linspace(0,100,5)\n",
        "result\n"
      ],
      "metadata": {
        "colab": {
          "base_uri": "https://localhost:8080/"
        },
        "id": "IM3GcIgmKx6d",
        "outputId": "7d38a41d-fafb-4e24-84d0-b54ff2b5dcec"
      },
      "execution_count": 17,
      "outputs": [
        {
          "output_type": "execute_result",
          "data": {
            "text/plain": [
              "array([  0.,  25.,  50.,  75., 100.])"
            ]
          },
          "metadata": {},
          "execution_count": 17
        }
      ]
    },
    {
      "cell_type": "markdown",
      "source": [
        "# 7) (10-30) arasında rastgale 5 tane tamsayı üretin.\n",
        "\n"
      ],
      "metadata": {
        "id": "MF0UB6LVLPzj"
      }
    },
    {
      "cell_type": "code",
      "source": [
        "result=np.random.randint(10,30,5)\n",
        "result"
      ],
      "metadata": {
        "colab": {
          "base_uri": "https://localhost:8080/"
        },
        "id": "w6bTtVWYLWys",
        "outputId": "80430293-1919-4381-e2ec-fec5a6b93ece"
      },
      "execution_count": 22,
      "outputs": [
        {
          "output_type": "execute_result",
          "data": {
            "text/plain": [
              "array([13, 24, 14, 14, 14])"
            ]
          },
          "metadata": {},
          "execution_count": 22
        }
      ]
    },
    {
      "cell_type": "markdown",
      "source": [
        "# 8) (-1 ile 1) arasında 10 adet sayı üretin"
      ],
      "metadata": {
        "id": "WKfYltAmL0vS"
      }
    },
    {
      "cell_type": "code",
      "source": [
        "result = np.random.randn(10)\n",
        "result"
      ],
      "metadata": {
        "colab": {
          "base_uri": "https://localhost:8080/"
        },
        "id": "fvbtElsvL8WE",
        "outputId": "82102988-d372-4db2-b2a4-f6aae62e0e56"
      },
      "execution_count": 23,
      "outputs": [
        {
          "output_type": "execute_result",
          "data": {
            "text/plain": [
              "array([-0.57329158, -0.63267676,  0.24328289,  1.68720593, -0.72509206,\n",
              "       -0.29220204, -0.59934333, -0.30093585, -0.07910145, -0.1027546 ])"
            ]
          },
          "metadata": {},
          "execution_count": 23
        }
      ]
    },
    {
      "cell_type": "markdown",
      "source": [
        "# 9) (3x5) boyutlarında (10-50) arasında rastgele bir matris oluşturunuz"
      ],
      "metadata": {
        "id": "oi1Vd3qlMGgq"
      }
    },
    {
      "cell_type": "code",
      "source": [
        "matris = np.random.randint(10,50,15).reshape(3,5)\n",
        "matris"
      ],
      "metadata": {
        "colab": {
          "base_uri": "https://localhost:8080/"
        },
        "id": "1cF1fQ8ZMTOD",
        "outputId": "4fdaa632-ae76-4df6-85a3-c8c69c27e939"
      },
      "execution_count": 36,
      "outputs": [
        {
          "output_type": "execute_result",
          "data": {
            "text/plain": [
              "array([[19, 42, 42, 10, 36],\n",
              "       [25, 12, 14, 40, 27],\n",
              "       [24, 31, 21, 47, 17]])"
            ]
          },
          "metadata": {},
          "execution_count": 36
        }
      ]
    },
    {
      "cell_type": "markdown",
      "source": [
        "# 11) Üretilen matrisin en büyük, en küçük ve ortalaması nedir ?"
      ],
      "metadata": {
        "id": "PQgw4it0MkdT"
      }
    },
    {
      "cell_type": "code",
      "source": [
        "result = matris.max()\n",
        "result\n",
        "result = matris.min()\n",
        "result = matris.mean()\n",
        "result"
      ],
      "metadata": {
        "colab": {
          "base_uri": "https://localhost:8080/"
        },
        "id": "cE4ehB6ZM8ju",
        "outputId": "ae7d8216-2ac6-4326-8fd7-8fbfbe2b6989"
      },
      "execution_count": 37,
      "outputs": [
        {
          "output_type": "execute_result",
          "data": {
            "text/plain": [
              "27.133333333333333"
            ]
          },
          "metadata": {},
          "execution_count": 37
        }
      ]
    },
    {
      "cell_type": "markdown",
      "source": [
        "# 12) üretilen matrisin en büyük değerinin indeksi kaçtır"
      ],
      "metadata": {
        "id": "lfBAY9x3Nu6q"
      }
    },
    {
      "cell_type": "code",
      "source": [
        "result = matris.argmax()\n",
        "result = matris.argmin()\n",
        "result"
      ],
      "metadata": {
        "colab": {
          "base_uri": "https://localhost:8080/"
        },
        "id": "VU-glbyzN5Ni",
        "outputId": "450f4a5d-aab7-43b9-f7c9-817c3eb43593"
      },
      "execution_count": 39,
      "outputs": [
        {
          "output_type": "execute_result",
          "data": {
            "text/plain": [
              "3"
            ]
          },
          "metadata": {},
          "execution_count": 39
        }
      ]
    },
    {
      "cell_type": "markdown",
      "source": [
        "# 13) (10-20) arasındaki sayıları içeren dizinin ilk 3 elemanını seçiniz"
      ],
      "metadata": {
        "id": "d76YrdbFO7v7"
      }
    },
    {
      "cell_type": "code",
      "source": [
        "arr = np.arange(10,20)\n",
        "print(arr)\n",
        "result\n",
        "result = arr[:3]"
      ],
      "metadata": {
        "colab": {
          "base_uri": "https://localhost:8080/"
        },
        "id": "Z6hPbXcgPMbC",
        "outputId": "4a6e8796-2d04-4c81-f6cd-653e09ad951a"
      },
      "execution_count": 41,
      "outputs": [
        {
          "output_type": "stream",
          "name": "stdout",
          "text": [
            "[10 11 12 13 14 15 16 17 18 19]\n"
          ]
        }
      ]
    },
    {
      "cell_type": "markdown",
      "source": [
        "# 14) Üretilen dizinin elemanlarını tersten yazdırın"
      ],
      "metadata": {
        "id": "SvZLKIhGPhSR"
      }
    },
    {
      "cell_type": "code",
      "source": [
        "result = arr[::-1]\n",
        "result"
      ],
      "metadata": {
        "colab": {
          "base_uri": "https://localhost:8080/"
        },
        "id": "LpBP-kMgPoUx",
        "outputId": "fc90eb42-5344-4468-8c55-f04df5ae2148"
      },
      "execution_count": 43,
      "outputs": [
        {
          "output_type": "execute_result",
          "data": {
            "text/plain": [
              "array([19, 18, 17, 16, 15, 14, 13, 12, 11, 10])"
            ]
          },
          "metadata": {},
          "execution_count": 43
        }
      ]
    },
    {
      "cell_type": "markdown",
      "source": [
        "# 15) Üretilen matrisin ilk satırını seçiniz"
      ],
      "metadata": {
        "id": "ftgNoG63P2Py"
      }
    },
    {
      "cell_type": "code",
      "source": [
        "result = matris [0]\n",
        "result"
      ],
      "metadata": {
        "colab": {
          "base_uri": "https://localhost:8080/"
        },
        "id": "WvT2TkcEP9jQ",
        "outputId": "6063ff2b-d4ba-43fe-93ce-fd8e997624be"
      },
      "execution_count": 44,
      "outputs": [
        {
          "output_type": "execute_result",
          "data": {
            "text/plain": [
              "array([19, 42, 42, 10, 36])"
            ]
          },
          "metadata": {},
          "execution_count": 44
        }
      ]
    },
    {
      "cell_type": "markdown",
      "source": [
        "# 16) Üretilen matrisin 2.satır 3. sütundaki elemanı hangisidir"
      ],
      "metadata": {
        "id": "YnHIEcqJQDHC"
      }
    },
    {
      "cell_type": "code",
      "source": [
        "result = matris[1,2]\n",
        "result"
      ],
      "metadata": {
        "colab": {
          "base_uri": "https://localhost:8080/"
        },
        "id": "0U8XTDa-QKBC",
        "outputId": "94a447f8-bba7-4849-aecc-5e66f10b347c"
      },
      "execution_count": 45,
      "outputs": [
        {
          "output_type": "execute_result",
          "data": {
            "text/plain": [
              "14"
            ]
          },
          "metadata": {},
          "execution_count": 45
        }
      ]
    },
    {
      "cell_type": "markdown",
      "source": [
        "# 17) Üretilen matrisin tüm satırlarındaki ilk elemanı seçiniz"
      ],
      "metadata": {
        "id": "Z6UOj6mGQQ75"
      }
    },
    {
      "cell_type": "code",
      "source": [
        "result = matris[:]\n",
        "result"
      ],
      "metadata": {
        "colab": {
          "base_uri": "https://localhost:8080/"
        },
        "id": "-k_0pNAFQht1",
        "outputId": "d614dfbe-e210-4da0-8cea-52ea999c8665"
      },
      "execution_count": 46,
      "outputs": [
        {
          "output_type": "execute_result",
          "data": {
            "text/plain": [
              "array([[19, 42, 42, 10, 36],\n",
              "       [25, 12, 14, 40, 27],\n",
              "       [24, 31, 21, 47, 17]])"
            ]
          },
          "metadata": {},
          "execution_count": 46
        }
      ]
    },
    {
      "cell_type": "markdown",
      "source": [
        "# 18) Üretilen matrisin her bir elemanın karesini alınız"
      ],
      "metadata": {
        "id": "XnkqMnsHQrqS"
      }
    },
    {
      "cell_type": "code",
      "source": [
        "result = matris ** 2\n",
        "result"
      ],
      "metadata": {
        "colab": {
          "base_uri": "https://localhost:8080/"
        },
        "id": "rLoHZ-XXQynC",
        "outputId": "1aad6692-c3a7-4d89-b0ad-acac18a95f64"
      },
      "execution_count": 47,
      "outputs": [
        {
          "output_type": "execute_result",
          "data": {
            "text/plain": [
              "array([[ 361, 1764, 1764,  100, 1296],\n",
              "       [ 625,  144,  196, 1600,  729],\n",
              "       [ 576,  961,  441, 2209,  289]])"
            ]
          },
          "metadata": {},
          "execution_count": 47
        }
      ]
    },
    {
      "cell_type": "markdown",
      "source": [
        "# 19) Üretilen matris elemanlarının hangisi pozitif çift sayıdır ?\n",
        "# Aralıgı (-50,+50) arasında yapınız."
      ],
      "metadata": {
        "id": "F8qKAXnhQ77C"
      }
    },
    {
      "cell_type": "code",
      "source": [
        "result = matris % 2\n",
        "print(result)"
      ],
      "metadata": {
        "colab": {
          "base_uri": "https://localhost:8080/"
        },
        "id": "4lmr8-e6RKxy",
        "outputId": "4257835f-063e-49f0-ec6a-9d1ff125d11c"
      },
      "execution_count": 48,
      "outputs": [
        {
          "output_type": "stream",
          "name": "stdout",
          "text": [
            "[[1 0 0 0 0]\n",
            " [1 0 0 0 1]\n",
            " [0 1 1 1 1]]\n"
          ]
        }
      ]
    }
  ]
}